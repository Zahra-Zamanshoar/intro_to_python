{
 "cells": [
  {
   "cell_type": "markdown",
   "id": "fb0bf5d1",
   "metadata": {},
   "source": [
    "# generator\n",
    "1.function</p>\n",
    "2.experresion"
   ]
  },
  {
   "cell_type": "markdown",
   "id": "99a0e3df",
   "metadata": {},
   "source": [
    "#### function"
   ]
  },
  {
   "cell_type": "code",
   "execution_count": 2,
   "id": "cb44decf",
   "metadata": {},
   "outputs": [
    {
     "name": "stdout",
     "output_type": "stream",
     "text": [
      "pooya...\n"
     ]
    }
   ],
   "source": [
    "def pooya():\n",
    "    return 'pooya...'\n",
    "print(pooya())"
   ]
  },
  {
   "cell_type": "code",
   "execution_count": 4,
   "id": "a35e3bec",
   "metadata": {},
   "outputs": [
    {
     "name": "stdout",
     "output_type": "stream",
     "text": [
      "<generator object pooya_1 at 0x000001BE69F551C0>\n"
     ]
    }
   ],
   "source": [
    "def pooya_1():\n",
    "    yield 'pooya...'\n",
    "print(pooya_1())    "
   ]
  },
  {
   "cell_type": "code",
   "execution_count": 5,
   "id": "20a924c5",
   "metadata": {},
   "outputs": [
    {
     "name": "stdout",
     "output_type": "stream",
     "text": [
      "pooya...\n"
     ]
    }
   ],
   "source": [
    "def pooya():\n",
    "    return 'pooya...'\n",
    "    return 'mohammadi...'#unreachable\n",
    "print(pooya())"
   ]
  },
  {
   "cell_type": "code",
   "execution_count": 10,
   "id": "2692f608",
   "metadata": {},
   "outputs": [
    {
     "name": "stdout",
     "output_type": "stream",
     "text": [
      "['pooya...', 'mohammadi...']\n"
     ]
    }
   ],
   "source": [
    "def pooya_1():\n",
    "    yield 'pooya...'\n",
    "    yield 'mohammadi...'\n",
    "print([item for item in pooya_1()])  "
   ]
  },
  {
   "cell_type": "code",
   "execution_count": 11,
   "id": "564c7b75",
   "metadata": {},
   "outputs": [
    {
     "name": "stdout",
     "output_type": "stream",
     "text": [
      "pooya...\n"
     ]
    }
   ],
   "source": [
    "p = pooya_1()\n",
    "print(next(p))"
   ]
  },
  {
   "cell_type": "code",
   "execution_count": 12,
   "id": "097b56c7",
   "metadata": {},
   "outputs": [
    {
     "name": "stdout",
     "output_type": "stream",
     "text": [
      "mohammadi...\n"
     ]
    }
   ],
   "source": [
    "print(next(p))"
   ]
  },
  {
   "cell_type": "code",
   "execution_count": 13,
   "id": "b8b6cbc6",
   "metadata": {},
   "outputs": [],
   "source": [
    "def number(number):\n",
    "    while number > 0:\n",
    "        yield number \n",
    "        number -= 1"
   ]
  },
  {
   "cell_type": "code",
   "execution_count": 21,
   "id": "0aad661b",
   "metadata": {},
   "outputs": [
    {
     "name": "stdout",
     "output_type": "stream",
     "text": [
      "4\n"
     ]
    }
   ],
   "source": [
    "num = number(4)\n",
    "print(next(num))"
   ]
  },
  {
   "cell_type": "code",
   "execution_count": 22,
   "id": "e1d6030c",
   "metadata": {},
   "outputs": [
    {
     "name": "stdout",
     "output_type": "stream",
     "text": [
      "3\n"
     ]
    }
   ],
   "source": [
    "print(next(num))"
   ]
  },
  {
   "cell_type": "code",
   "execution_count": 23,
   "id": "2db3dc99",
   "metadata": {},
   "outputs": [
    {
     "name": "stdout",
     "output_type": "stream",
     "text": [
      "2\n"
     ]
    }
   ],
   "source": [
    "print(next(num))"
   ]
  },
  {
   "cell_type": "code",
   "execution_count": 24,
   "id": "eedc9c95",
   "metadata": {},
   "outputs": [
    {
     "name": "stdout",
     "output_type": "stream",
     "text": [
      "1\n"
     ]
    }
   ],
   "source": [
    "print(next(num))"
   ]
  },
  {
   "cell_type": "code",
   "execution_count": 25,
   "id": "57174688",
   "metadata": {},
   "outputs": [
    {
     "ename": "StopIteration",
     "evalue": "",
     "output_type": "error",
     "traceback": [
      "\u001b[1;31m---------------------------------------------------------------------------\u001b[0m",
      "\u001b[1;31mStopIteration\u001b[0m                             Traceback (most recent call last)",
      "Cell \u001b[1;32mIn [25], line 1\u001b[0m\n\u001b[1;32m----> 1\u001b[0m \u001b[38;5;28mprint\u001b[39m(\u001b[38;5;28mnext\u001b[39m(num))\n",
      "\u001b[1;31mStopIteration\u001b[0m: "
     ]
    }
   ],
   "source": [
    "print(next(num))"
   ]
  },
  {
   "cell_type": "markdown",
   "id": "009f3ca0",
   "metadata": {},
   "source": [
    "#### expression"
   ]
  },
  {
   "cell_type": "code",
   "execution_count": 29,
   "id": "80355daa",
   "metadata": {},
   "outputs": [
    {
     "name": "stdout",
     "output_type": "stream",
     "text": [
      "[0, 2, 4, 6, 8, 10]\n"
     ]
    }
   ],
   "source": [
    "even_num = [num for num in range(11) if num%2==0]\n",
    "print(even_num)"
   ]
  },
  {
   "cell_type": "code",
   "execution_count": 38,
   "id": "103168c3",
   "metadata": {},
   "outputs": [
    {
     "name": "stdout",
     "output_type": "stream",
     "text": [
      "<generator object <genexpr> at 0x000001BE6C7A0190>\n"
     ]
    }
   ],
   "source": [
    "even_num = (num for num in range(11) if num%2==0)\n",
    "print(even_num) #lazy Evaluation"
   ]
  },
  {
   "cell_type": "code",
   "execution_count": 39,
   "id": "bfa35557",
   "metadata": {},
   "outputs": [
    {
     "name": "stdout",
     "output_type": "stream",
     "text": [
      "0\n"
     ]
    }
   ],
   "source": [
    "print(next(even_num))"
   ]
  },
  {
   "cell_type": "code",
   "execution_count": 40,
   "id": "177fd9e0",
   "metadata": {},
   "outputs": [
    {
     "name": "stdout",
     "output_type": "stream",
     "text": [
      "2\n"
     ]
    }
   ],
   "source": [
    "print(next(even_num))"
   ]
  },
  {
   "cell_type": "code",
   "execution_count": 41,
   "id": "db46fa23",
   "metadata": {},
   "outputs": [
    {
     "name": "stdout",
     "output_type": "stream",
     "text": [
      "4\n"
     ]
    }
   ],
   "source": [
    "print(next(even_num))"
   ]
  },
  {
   "cell_type": "code",
   "execution_count": 42,
   "id": "1ef9bc55",
   "metadata": {},
   "outputs": [
    {
     "name": "stdout",
     "output_type": "stream",
     "text": [
      "6\n"
     ]
    }
   ],
   "source": [
    "print(next(even_num))"
   ]
  },
  {
   "cell_type": "code",
   "execution_count": 43,
   "id": "4900313e",
   "metadata": {},
   "outputs": [
    {
     "name": "stdout",
     "output_type": "stream",
     "text": [
      "8\n"
     ]
    }
   ],
   "source": [
    "print(next(even_num))"
   ]
  },
  {
   "cell_type": "code",
   "execution_count": 44,
   "id": "f6ec2ab5",
   "metadata": {},
   "outputs": [
    {
     "name": "stdout",
     "output_type": "stream",
     "text": [
      "10\n"
     ]
    }
   ],
   "source": [
    "print(next(even_num))"
   ]
  },
  {
   "cell_type": "code",
   "execution_count": 45,
   "id": "ca86acac",
   "metadata": {},
   "outputs": [
    {
     "ename": "StopIteration",
     "evalue": "",
     "output_type": "error",
     "traceback": [
      "\u001b[1;31m---------------------------------------------------------------------------\u001b[0m",
      "\u001b[1;31mStopIteration\u001b[0m                             Traceback (most recent call last)",
      "Cell \u001b[1;32mIn [45], line 1\u001b[0m\n\u001b[1;32m----> 1\u001b[0m \u001b[38;5;28mprint\u001b[39m(\u001b[38;5;28mnext\u001b[39m(even_num))\n",
      "\u001b[1;31mStopIteration\u001b[0m: "
     ]
    }
   ],
   "source": [
    "print(next(even_num))"
   ]
  },
  {
   "cell_type": "code",
   "execution_count": null,
   "id": "e8ee7d40",
   "metadata": {},
   "outputs": [],
   "source": []
  }
 ],
 "metadata": {
  "kernelspec": {
   "display_name": "Python 3 (ipykernel)",
   "language": "python",
   "name": "python3"
  },
  "language_info": {
   "codemirror_mode": {
    "name": "ipython",
    "version": 3
   },
   "file_extension": ".py",
   "mimetype": "text/x-python",
   "name": "python",
   "nbconvert_exporter": "python",
   "pygments_lexer": "ipython3",
   "version": "3.10.7"
  }
 },
 "nbformat": 4,
 "nbformat_minor": 5
}
