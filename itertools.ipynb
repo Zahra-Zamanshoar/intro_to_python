{
 "cells": [
  {
   "cell_type": "markdown",
   "id": "7ce8571f",
   "metadata": {},
   "source": [
    "## itertools\n",
    "  1.[count](#count)          </p></p>\n",
    "  2.[compress()](#compress())</p></p>\n",
    "  3.[dropwhile()](#dropwhile()) </p>\n",
    "  4.[product](#product)</p>\n",
    "  5.[permutations](#permutations)</p>\n",
    "  6.[combinations](#combinations)</p>"
   ]
  },
  {
   "cell_type": "code",
   "execution_count": 1,
   "id": "150b5f08",
   "metadata": {},
   "outputs": [],
   "source": [
    "from itertools import count"
   ]
  },
  {
   "cell_type": "code",
   "execution_count": 5,
   "id": "5d884510",
   "metadata": {},
   "outputs": [
    {
     "data": {
      "text/plain": [
       "[count(0, 2), count(0, 2), count(0, 2), count(0, 2), count(0, 2)]"
      ]
     },
     "execution_count": 5,
     "metadata": {},
     "output_type": "execute_result"
    }
   ],
   "source": [
    "iterator =(count(start = 0, step = 2))\n",
    "list(iterator for _ in range(5))"
   ]
  },
  {
   "cell_type": "code",
   "execution_count": null,
   "id": "882003c1",
   "metadata": {},
   "outputs": [],
   "source": []
  }
 ],
 "metadata": {
  "kernelspec": {
   "display_name": "Python 3 (ipykernel)",
   "language": "python",
   "name": "python3"
  },
  "language_info": {
   "codemirror_mode": {
    "name": "ipython",
    "version": 3
   },
   "file_extension": ".py",
   "mimetype": "text/x-python",
   "name": "python",
   "nbconvert_exporter": "python",
   "pygments_lexer": "ipython3",
   "version": "3.10.5"
  }
 },
 "nbformat": 4,
 "nbformat_minor": 5
}
